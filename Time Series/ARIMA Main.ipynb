{
 "cells": [
  {
   "cell_type": "code",
   "execution_count": 135,
   "metadata": {},
   "outputs": [],
   "source": [
    "import pandas as pd\n",
    "import numpy as np\n",
    "import matplotlib.pyplot as plt\n",
    "\n",
    "from statsmodels.tsa.stattools import adfuller\n",
    "from statsmodels.tsa.seasonal import seasonal_decompose\n",
    "from statsmodels.tsa.arima_model import ARIMA\n",
    "from pmdarima import auto_arima"
   ]
  },
  {
   "cell_type": "code",
   "execution_count": 136,
   "metadata": {},
   "outputs": [
    {
     "data": {
      "text/html": [
       "<div><div id=c9e5c753-7d18-4a40-a518-3b8571edb60b style=\"display:none; background-color:#9D6CFF; color:white; width:200px; height:30px; padding-left:5px; border-radius:4px; flex-direction:row; justify-content:space-around; align-items:center;\" onmouseover=\"this.style.backgroundColor='#BA9BF8'\" onmouseout=\"this.style.backgroundColor='#9D6CFF'\" onclick=\"window.commands?.execute('create-mitosheet-from-dataframe-output');\">See Full Dataframe in Mito</div> <script> if (window.commands.hasCommand('create-mitosheet-from-dataframe-output')) document.getElementById('c9e5c753-7d18-4a40-a518-3b8571edb60b').style.display = 'flex' </script> <table border=\"1\" class=\"dataframe\">\n",
       "  <thead>\n",
       "    <tr style=\"text-align: right;\">\n",
       "      <th></th>\n",
       "      <th>#Passengers</th>\n",
       "    </tr>\n",
       "    <tr>\n",
       "      <th>Month</th>\n",
       "      <th></th>\n",
       "    </tr>\n",
       "  </thead>\n",
       "  <tbody>\n",
       "    <tr>\n",
       "      <th>1949-01-01</th>\n",
       "      <td>112</td>\n",
       "    </tr>\n",
       "    <tr>\n",
       "      <th>1949-02-01</th>\n",
       "      <td>118</td>\n",
       "    </tr>\n",
       "    <tr>\n",
       "      <th>1949-03-01</th>\n",
       "      <td>132</td>\n",
       "    </tr>\n",
       "    <tr>\n",
       "      <th>1949-04-01</th>\n",
       "      <td>129</td>\n",
       "    </tr>\n",
       "    <tr>\n",
       "      <th>1949-05-01</th>\n",
       "      <td>121</td>\n",
       "    </tr>\n",
       "    <tr>\n",
       "      <th>...</th>\n",
       "      <td>...</td>\n",
       "    </tr>\n",
       "    <tr>\n",
       "      <th>1960-08-01</th>\n",
       "      <td>606</td>\n",
       "    </tr>\n",
       "    <tr>\n",
       "      <th>1960-09-01</th>\n",
       "      <td>508</td>\n",
       "    </tr>\n",
       "    <tr>\n",
       "      <th>1960-10-01</th>\n",
       "      <td>461</td>\n",
       "    </tr>\n",
       "    <tr>\n",
       "      <th>1960-11-01</th>\n",
       "      <td>390</td>\n",
       "    </tr>\n",
       "    <tr>\n",
       "      <th>1960-12-01</th>\n",
       "      <td>432</td>\n",
       "    </tr>\n",
       "  </tbody>\n",
       "</table></div>"
      ],
      "text/plain": [
       "            #Passengers\n",
       "Month                  \n",
       "1949-01-01          112\n",
       "1949-02-01          118\n",
       "1949-03-01          132\n",
       "1949-04-01          129\n",
       "1949-05-01          121\n",
       "...                 ...\n",
       "1960-08-01          606\n",
       "1960-09-01          508\n",
       "1960-10-01          461\n",
       "1960-11-01          390\n",
       "1960-12-01          432\n",
       "\n",
       "[144 rows x 1 columns]"
      ]
     },
     "execution_count": 136,
     "metadata": {},
     "output_type": "execute_result"
    },
    {
     "data": {
      "image/png": "[encoded data removed]",
      "text/plain": [
       "<Figure size 432x288 with 1 Axes>"
      ]
     },
     "metadata": {
      "needs_background": "light"
     },
     "output_type": "display_data"
    }
   ],
   "source": [
    "data = pd.read_csv('AirPassengers.csv', parse_dates = ['Month'], index_col = 'Month')\n",
    "data.plot()\n",
    "data"
   ]
  },
  {
   "cell_type": "code",
   "execution_count": 137,
   "metadata": {},
   "outputs": [
    {
     "name": "stdout",
     "output_type": "stream",
     "text": [
      "(114, 1)\n",
      "(30, 1)\n"
     ]
    },
    {
     "data": {
      "text/plain": [
       "(None, None)"
      ]
     },
     "execution_count": 137,
     "metadata": {},
     "output_type": "execute_result"
    }
   ],
   "source": [
    "data2 = pd.read_csv('AirPassengers.csv', parse_dates = ['Month'], index_col = 'Month')\n",
    "train_data = data2.iloc[:-30]\n",
    "test_data = data2.iloc[-30:]\n",
    "print(train_data.shape), print(test_data.shape)"
   ]
  },
  {
   "cell_type": "code",
   "execution_count": 138,
   "metadata": {},
   "outputs": [
    {
     "name": "stdout",
     "output_type": "stream",
     "text": [
      "The value of P:  0.9918802434376409\n",
      "Unstationary\n"
     ]
    }
   ],
   "source": [
    "#lets do adfuller test\n",
    "result = adfuller(data)\n",
    "print(\"The value of P: \", result[1])\n",
    "if result[1]>0.05:\n",
    "    print(\"Unstationary\")\n",
    "    \n",
    "else:\n",
    "    print(\"Stationary\")"
   ]
  },
  {
   "cell_type": "code",
   "execution_count": 139,
   "metadata": {},
   "outputs": [
    {
     "data": {
      "text/html": [
       "<div><div id=970fb790-43c8-4751-8c19-ac64301686be style=\"display:none; background-color:#9D6CFF; color:white; width:200px; height:30px; padding-left:5px; border-radius:4px; flex-direction:row; justify-content:space-around; align-items:center;\" onmouseover=\"this.style.backgroundColor='#BA9BF8'\" onmouseout=\"this.style.backgroundColor='#9D6CFF'\" onclick=\"window.commands?.execute('create-mitosheet-from-dataframe-output');\">See Full Dataframe in Mito</div> <script> if (window.commands.hasCommand('create-mitosheet-from-dataframe-output')) document.getElementById('970fb790-43c8-4751-8c19-ac64301686be').style.display = 'flex' </script> <table border=\"1\" class=\"dataframe\">\n",
       "  <thead>\n",
       "    <tr style=\"text-align: right;\">\n",
       "      <th></th>\n",
       "      <th>#Passengers</th>\n",
       "    </tr>\n",
       "    <tr>\n",
       "      <th>Month</th>\n",
       "      <th></th>\n",
       "    </tr>\n",
       "  </thead>\n",
       "  <tbody>\n",
       "    <tr>\n",
       "      <th>1949-02-01</th>\n",
       "      <td>6.0</td>\n",
       "    </tr>\n",
       "    <tr>\n",
       "      <th>1949-03-01</th>\n",
       "      <td>14.0</td>\n",
       "    </tr>\n",
       "    <tr>\n",
       "      <th>1949-04-01</th>\n",
       "      <td>-3.0</td>\n",
       "    </tr>\n",
       "    <tr>\n",
       "      <th>1949-05-01</th>\n",
       "      <td>-8.0</td>\n",
       "    </tr>\n",
       "    <tr>\n",
       "      <th>1949-06-01</th>\n",
       "      <td>14.0</td>\n",
       "    </tr>\n",
       "    <tr>\n",
       "      <th>...</th>\n",
       "      <td>...</td>\n",
       "    </tr>\n",
       "    <tr>\n",
       "      <th>1960-08-01</th>\n",
       "      <td>-16.0</td>\n",
       "    </tr>\n",
       "    <tr>\n",
       "      <th>1960-09-01</th>\n",
       "      <td>-98.0</td>\n",
       "    </tr>\n",
       "    <tr>\n",
       "      <th>1960-10-01</th>\n",
       "      <td>-47.0</td>\n",
       "    </tr>\n",
       "    <tr>\n",
       "      <th>1960-11-01</th>\n",
       "      <td>-71.0</td>\n",
       "    </tr>\n",
       "    <tr>\n",
       "      <th>1960-12-01</th>\n",
       "      <td>42.0</td>\n",
       "    </tr>\n",
       "  </tbody>\n",
       "</table></div>"
      ],
      "text/plain": [
       "            #Passengers\n",
       "Month                  \n",
       "1949-02-01          6.0\n",
       "1949-03-01         14.0\n",
       "1949-04-01         -3.0\n",
       "1949-05-01         -8.0\n",
       "1949-06-01         14.0\n",
       "...                 ...\n",
       "1960-08-01        -16.0\n",
       "1960-09-01        -98.0\n",
       "1960-10-01        -47.0\n",
       "1960-11-01        -71.0\n",
       "1960-12-01         42.0\n",
       "\n",
       "[143 rows x 1 columns]"
      ]
     },
     "execution_count": 139,
     "metadata": {},
     "output_type": "execute_result"
    }
   ],
   "source": [
    "#converting it into stationary\n",
    "data['#Passengers'] = data['#Passengers'].diff()[1:]\n",
    "data.dropna(inplace = True)\n",
    "data"
   ]
  },
  {
   "cell_type": "code",
   "execution_count": 140,
   "metadata": {},
   "outputs": [
    {
     "name": "stdout",
     "output_type": "stream",
     "text": [
      "The value of P:  0.05421329028382609\n",
      "Unstationary\n"
     ]
    }
   ],
   "source": [
    "#checking adfuller again\n",
    "result = adfuller(data)\n",
    "print(\"The value of P: \", result[1])\n",
    "if result[1]>0.05:\n",
    "    print(\"Unstationary\")\n",
    "    \n",
    "else:\n",
    "    print(\"Stationary\")"
   ]
  },
  {
   "cell_type": "code",
   "execution_count": 141,
   "metadata": {},
   "outputs": [
    {
     "data": {
      "text/html": [
       "<div><div id=e1a2cb88-ea5c-4c20-a28b-9d8665a1686f style=\"display:none; background-color:#9D6CFF; color:white; width:200px; height:30px; padding-left:5px; border-radius:4px; flex-direction:row; justify-content:space-around; align-items:center;\" onmouseover=\"this.style.backgroundColor='#BA9BF8'\" onmouseout=\"this.style.backgroundColor='#9D6CFF'\" onclick=\"window.commands?.execute('create-mitosheet-from-dataframe-output');\">See Full Dataframe in Mito</div> <script> if (window.commands.hasCommand('create-mitosheet-from-dataframe-output')) document.getElementById('e1a2cb88-ea5c-4c20-a28b-9d8665a1686f').style.display = 'flex' </script> <table border=\"1\" class=\"dataframe\">\n",
       "  <thead>\n",
       "    <tr style=\"text-align: right;\">\n",
       "      <th></th>\n",
       "      <th>#Passengers</th>\n",
       "    </tr>\n",
       "    <tr>\n",
       "      <th>Month</th>\n",
       "      <th></th>\n",
       "    </tr>\n",
       "  </thead>\n",
       "  <tbody>\n",
       "    <tr>\n",
       "      <th>1949-03-01</th>\n",
       "      <td>8.0</td>\n",
       "    </tr>\n",
       "    <tr>\n",
       "      <th>1949-04-01</th>\n",
       "      <td>-17.0</td>\n",
       "    </tr>\n",
       "    <tr>\n",
       "      <th>1949-05-01</th>\n",
       "      <td>-5.0</td>\n",
       "    </tr>\n",
       "    <tr>\n",
       "      <th>1949-06-01</th>\n",
       "      <td>22.0</td>\n",
       "    </tr>\n",
       "    <tr>\n",
       "      <th>1949-07-01</th>\n",
       "      <td>-1.0</td>\n",
       "    </tr>\n",
       "    <tr>\n",
       "      <th>...</th>\n",
       "      <td>...</td>\n",
       "    </tr>\n",
       "    <tr>\n",
       "      <th>1960-08-01</th>\n",
       "      <td>-103.0</td>\n",
       "    </tr>\n",
       "    <tr>\n",
       "      <th>1960-09-01</th>\n",
       "      <td>-82.0</td>\n",
       "    </tr>\n",
       "    <tr>\n",
       "      <th>1960-10-01</th>\n",
       "      <td>51.0</td>\n",
       "    </tr>\n",
       "    <tr>\n",
       "      <th>1960-11-01</th>\n",
       "      <td>-24.0</td>\n",
       "    </tr>\n",
       "    <tr>\n",
       "      <th>1960-12-01</th>\n",
       "      <td>113.0</td>\n",
       "    </tr>\n",
       "  </tbody>\n",
       "</table></div>"
      ],
      "text/plain": [
       "            #Passengers\n",
       "Month                  \n",
       "1949-03-01          8.0\n",
       "1949-04-01        -17.0\n",
       "1949-05-01         -5.0\n",
       "1949-06-01         22.0\n",
       "1949-07-01         -1.0\n",
       "...                 ...\n",
       "1960-08-01       -103.0\n",
       "1960-09-01        -82.0\n",
       "1960-10-01         51.0\n",
       "1960-11-01        -24.0\n",
       "1960-12-01        113.0\n",
       "\n",
       "[142 rows x 1 columns]"
      ]
     },
     "execution_count": 141,
     "metadata": {},
     "output_type": "execute_result"
    }
   ],
   "source": [
    "#converting it into stationary\n",
    "data['#Passengers'] = data['#Passengers'].diff()[1:]\n",
    "data.dropna(inplace = True)\n",
    "data"
   ]
  },
  {
   "cell_type": "code",
   "execution_count": 142,
   "metadata": {},
   "outputs": [
    {
     "data": {
      "text/html": [
       "<div><div id=944697d4-676d-42bf-82eb-ac563b96b7c7 style=\"display:none; background-color:#9D6CFF; color:white; width:200px; height:30px; padding-left:5px; border-radius:4px; flex-direction:row; justify-content:space-around; align-items:center;\" onmouseover=\"this.style.backgroundColor='#BA9BF8'\" onmouseout=\"this.style.backgroundColor='#9D6CFF'\" onclick=\"window.commands?.execute('create-mitosheet-from-dataframe-output');\">See Full Dataframe in Mito</div> <script> if (window.commands.hasCommand('create-mitosheet-from-dataframe-output')) document.getElementById('944697d4-676d-42bf-82eb-ac563b96b7c7').style.display = 'flex' </script> <table border=\"1\" class=\"dataframe\">\n",
       "  <thead>\n",
       "    <tr style=\"text-align: right;\">\n",
       "      <th></th>\n",
       "      <th>#Passengers</th>\n",
       "    </tr>\n",
       "    <tr>\n",
       "      <th>Month</th>\n",
       "      <th></th>\n",
       "    </tr>\n",
       "  </thead>\n",
       "  <tbody>\n",
       "    <tr>\n",
       "      <th>1949-04-01</th>\n",
       "      <td>-25.0</td>\n",
       "    </tr>\n",
       "    <tr>\n",
       "      <th>1949-05-01</th>\n",
       "      <td>12.0</td>\n",
       "    </tr>\n",
       "    <tr>\n",
       "      <th>1949-06-01</th>\n",
       "      <td>27.0</td>\n",
       "    </tr>\n",
       "    <tr>\n",
       "      <th>1949-07-01</th>\n",
       "      <td>-23.0</td>\n",
       "    </tr>\n",
       "    <tr>\n",
       "      <th>1949-08-01</th>\n",
       "      <td>-12.0</td>\n",
       "    </tr>\n",
       "    <tr>\n",
       "      <th>...</th>\n",
       "      <td>...</td>\n",
       "    </tr>\n",
       "    <tr>\n",
       "      <th>1960-08-01</th>\n",
       "      <td>-127.0</td>\n",
       "    </tr>\n",
       "    <tr>\n",
       "      <th>1960-09-01</th>\n",
       "      <td>21.0</td>\n",
       "    </tr>\n",
       "    <tr>\n",
       "      <th>1960-10-01</th>\n",
       "      <td>133.0</td>\n",
       "    </tr>\n",
       "    <tr>\n",
       "      <th>1960-11-01</th>\n",
       "      <td>-75.0</td>\n",
       "    </tr>\n",
       "    <tr>\n",
       "      <th>1960-12-01</th>\n",
       "      <td>137.0</td>\n",
       "    </tr>\n",
       "  </tbody>\n",
       "</table></div>"
      ],
      "text/plain": [
       "            #Passengers\n",
       "Month                  \n",
       "1949-04-01        -25.0\n",
       "1949-05-01         12.0\n",
       "1949-06-01         27.0\n",
       "1949-07-01        -23.0\n",
       "1949-08-01        -12.0\n",
       "...                 ...\n",
       "1960-08-01       -127.0\n",
       "1960-09-01         21.0\n",
       "1960-10-01        133.0\n",
       "1960-11-01        -75.0\n",
       "1960-12-01        137.0\n",
       "\n",
       "[141 rows x 1 columns]"
      ]
     },
     "execution_count": 142,
     "metadata": {},
     "output_type": "execute_result"
    }
   ],
   "source": [
    "data['#Passengers'] = data['#Passengers'].diff()[1:]\n",
    "data.dropna(inplace = True)\n",
    "data"
   ]
  },
  {
   "cell_type": "code",
   "execution_count": 143,
   "metadata": {},
   "outputs": [
    {
     "name": "stdout",
     "output_type": "stream",
     "text": [
      "The value of P:  5.079966883921446e-16\n",
      "Stationary\n"
     ]
    }
   ],
   "source": [
    "#checking adfuller again\n",
    "result = adfuller(data)\n",
    "print(\"The value of P: \", result[1])\n",
    "if result[1]>0.05:\n",
    "    print(\"Unstationary\")\n",
    "    \n",
    "else:\n",
    "    print(\"Stationary\")"
   ]
  },
  {
   "cell_type": "code",
   "execution_count": 144,
   "metadata": {},
   "outputs": [
    {
     "data": {
      "text/plain": [
       "<matplotlib.axes._subplots.AxesSubplot at 0x16abb966e20>"
      ]
     },
     "execution_count": 144,
     "metadata": {},
     "output_type": "execute_result"
    },
    {
     "data": {
      "image/png": "[encoded data removed]",
      "text/plain": [
       "<Figure size 432x288 with 1 Axes>"
      ]
     },
     "metadata": {
      "needs_background": "light"
     },
     "output_type": "display_data"
    }
   ],
   "source": [
    "data.plot()"
   ]
  },
  {
   "cell_type": "code",
   "execution_count": 145,
   "metadata": {},
   "outputs": [
    {
     "name": "stdout",
     "output_type": "stream",
     "text": [
      "Performing stepwise search to minimize aic\n",
      " ARIMA(2,0,2)(0,0,0)[0] intercept   : AIC=inf, Time=0.15 sec\n",
      " ARIMA(0,0,0)(0,0,0)[0] intercept   : AIC=1562.328, Time=0.01 sec\n",
      " ARIMA(1,0,0)(0,0,0)[0] intercept   : AIC=1526.022, Time=0.03 sec\n",
      " ARIMA(0,0,1)(0,0,0)[0] intercept   : AIC=inf, Time=0.08 sec\n",
      " ARIMA(0,0,0)(0,0,0)[0]             : AIC=1560.349, Time=0.02 sec\n",
      " ARIMA(2,0,0)(0,0,0)[0] intercept   : AIC=1501.438, Time=0.05 sec\n",
      " ARIMA(3,0,0)(0,0,0)[0] intercept   : AIC=1498.766, Time=0.06 sec\n",
      " ARIMA(4,0,0)(0,0,0)[0] intercept   : AIC=1475.845, Time=0.10 sec\n",
      " ARIMA(5,0,0)(0,0,0)[0] intercept   : AIC=1468.036, Time=0.12 sec\n",
      " ARIMA(5,0,1)(0,0,0)[0] intercept   : AIC=inf, Time=0.20 sec\n",
      " ARIMA(4,0,1)(0,0,0)[0] intercept   : AIC=inf, Time=0.13 sec\n",
      " ARIMA(5,0,0)(0,0,0)[0]             : AIC=1466.037, Time=0.07 sec\n",
      " ARIMA(4,0,0)(0,0,0)[0]             : AIC=1473.853, Time=0.05 sec\n",
      " ARIMA(5,0,1)(0,0,0)[0]             : AIC=inf, Time=0.16 sec\n",
      " ARIMA(4,0,1)(0,0,0)[0]             : AIC=inf, Time=0.10 sec\n",
      "\n",
      "Best model:  ARIMA(5,0,0)(0,0,0)[0]          \n",
      "Total fit time: 1.336 seconds\n"
     ]
    },
    {
     "data": {
      "text/html": [
       "<table class=\"simpletable\">\n",
       "<caption>SARIMAX Results</caption>\n",
       "<tr>\n",
       "  <th>Dep. Variable:</th>           <td>y</td>        <th>  No. Observations:  </th>    <td>141</td>  \n",
       "</tr>\n",
       "<tr>\n",
       "  <th>Model:</th>           <td>SARIMAX(5, 0, 0)</td> <th>  Log Likelihood     </th> <td>-727.018</td>\n",
       "</tr>\n",
       "<tr>\n",
       "  <th>Date:</th>            <td>Tue, 21 Dec 2021</td> <th>  AIC                </th> <td>1466.037</td>\n",
       "</tr>\n",
       "<tr>\n",
       "  <th>Time:</th>                <td>10:56:07</td>     <th>  BIC                </th> <td>1483.729</td>\n",
       "</tr>\n",
       "<tr>\n",
       "  <th>Sample:</th>                  <td>0</td>        <th>  HQIC               </th> <td>1473.226</td>\n",
       "</tr>\n",
       "<tr>\n",
       "  <th></th>                      <td> - 141</td>      <th>                     </th>     <td> </td>   \n",
       "</tr>\n",
       "<tr>\n",
       "  <th>Covariance Type:</th>        <td>opg</td>       <th>                     </th>     <td> </td>   \n",
       "</tr>\n",
       "</table>\n",
       "<table class=\"simpletable\">\n",
       "<tr>\n",
       "     <td></td>       <th>coef</th>     <th>std err</th>      <th>z</th>      <th>P>|z|</th>  <th>[0.025</th>    <th>0.975]</th>  \n",
       "</tr>\n",
       "<tr>\n",
       "  <th>ar.L1</th>  <td>   -0.9873</td> <td>    0.090</td> <td>  -10.931</td> <td> 0.000</td> <td>   -1.164</td> <td>   -0.810</td>\n",
       "</tr>\n",
       "<tr>\n",
       "  <th>ar.L2</th>  <td>   -0.9524</td> <td>    0.155</td> <td>   -6.126</td> <td> 0.000</td> <td>   -1.257</td> <td>   -0.648</td>\n",
       "</tr>\n",
       "<tr>\n",
       "  <th>ar.L3</th>  <td>   -0.7584</td> <td>    0.194</td> <td>   -3.916</td> <td> 0.000</td> <td>   -1.138</td> <td>   -0.379</td>\n",
       "</tr>\n",
       "<tr>\n",
       "  <th>ar.L4</th>  <td>   -0.6679</td> <td>    0.172</td> <td>   -3.893</td> <td> 0.000</td> <td>   -1.004</td> <td>   -0.332</td>\n",
       "</tr>\n",
       "<tr>\n",
       "  <th>ar.L5</th>  <td>   -0.2733</td> <td>    0.077</td> <td>   -3.568</td> <td> 0.000</td> <td>   -0.423</td> <td>   -0.123</td>\n",
       "</tr>\n",
       "<tr>\n",
       "  <th>sigma2</th> <td> 1737.5978</td> <td>  195.340</td> <td>    8.895</td> <td> 0.000</td> <td> 1354.739</td> <td> 2120.456</td>\n",
       "</tr>\n",
       "</table>\n",
       "<table class=\"simpletable\">\n",
       "<tr>\n",
       "  <th>Ljung-Box (Q):</th>          <td>286.81</td> <th>  Jarque-Bera (JB):  </th> <td>6.04</td> \n",
       "</tr>\n",
       "<tr>\n",
       "  <th>Prob(Q):</th>                 <td>0.00</td>  <th>  Prob(JB):          </th> <td>0.05</td> \n",
       "</tr>\n",
       "<tr>\n",
       "  <th>Heteroskedasticity (H):</th>  <td>8.56</td>  <th>  Skew:              </th> <td>-0.32</td>\n",
       "</tr>\n",
       "<tr>\n",
       "  <th>Prob(H) (two-sided):</th>     <td>0.00</td>  <th>  Kurtosis:          </th> <td>3.79</td> \n",
       "</tr>\n",
       "</table><br/><br/>Warnings:<br/>[1] Covariance matrix calculated using the outer product of gradients (complex-step)."
      ],
      "text/plain": [
       "<class 'statsmodels.iolib.summary.Summary'>\n",
       "\"\"\"\n",
       "                               SARIMAX Results                                \n",
       "==============================================================================\n",
       "Dep. Variable:                      y   No. Observations:                  141\n",
       "Model:               SARIMAX(5, 0, 0)   Log Likelihood                -727.018\n",
       "Date:                Tue, 21 Dec 2021   AIC                           1466.037\n",
       "Time:                        10:56:07   BIC                           1483.729\n",
       "Sample:                             0   HQIC                          1473.226\n",
       "                                - 141                                         \n",
       "Covariance Type:                  opg                                         \n",
       "==============================================================================\n",
       "                 coef    std err          z      P>|z|      [0.025      0.975]\n",
       "------------------------------------------------------------------------------\n",
       "ar.L1         -0.9873      0.090    -10.931      0.000      -1.164      -0.810\n",
       "ar.L2         -0.9524      0.155     -6.126      0.000      -1.257      -0.648\n",
       "ar.L3         -0.7584      0.194     -3.916      0.000      -1.138      -0.379\n",
       "ar.L4         -0.6679      0.172     -3.893      0.000      -1.004      -0.332\n",
       "ar.L5         -0.2733      0.077     -3.568      0.000      -0.423      -0.123\n",
       "sigma2      1737.5978    195.340      8.895      0.000    1354.739    2120.456\n",
       "===================================================================================\n",
       "Ljung-Box (Q):                      286.81   Jarque-Bera (JB):                 6.04\n",
       "Prob(Q):                              0.00   Prob(JB):                         0.05\n",
       "Heteroskedasticity (H):               8.56   Skew:                            -0.32\n",
       "Prob(H) (two-sided):                  0.00   Kurtosis:                         3.79\n",
       "===================================================================================\n",
       "\n",
       "Warnings:\n",
       "[1] Covariance matrix calculated using the outer product of gradients (complex-step).\n",
       "\"\"\""
      ]
     },
     "execution_count": 145,
     "metadata": {},
     "output_type": "execute_result"
    }
   ],
   "source": [
    "best_model = auto_arima(data, trace = True, supress_warnings = True)\n",
    "best_model.summary()"
   ]
  },
  {
   "cell_type": "code",
   "execution_count": 146,
   "metadata": {},
   "outputs": [],
   "source": [
    "model = ARIMA(train_data, order=(5,0,0))\n",
    "import warnings\n",
    "warnings.filterwarnings(\"ignore\")"
   ]
  },
  {
   "cell_type": "code",
   "execution_count": 147,
   "metadata": {},
   "outputs": [],
   "source": [
    "model = model.fit()"
   ]
  },
  {
   "cell_type": "code",
   "execution_count": 148,
   "metadata": {},
   "outputs": [
    {
     "data": {
      "text/html": [
       "<table class=\"simpletable\">\n",
       "<caption>ARMA Model Results</caption>\n",
       "<tr>\n",
       "  <th>Dep. Variable:</th>    <td>#Passengers</td>   <th>  No. Observations:  </th>    <td>114</td>  \n",
       "</tr>\n",
       "<tr>\n",
       "  <th>Model:</th>            <td>ARMA(5, 0)</td>    <th>  Log Likelihood     </th> <td>-524.187</td>\n",
       "</tr>\n",
       "<tr>\n",
       "  <th>Method:</th>             <td>css-mle</td>     <th>  S.D. of innovations</th>  <td>23.636</td> \n",
       "</tr>\n",
       "<tr>\n",
       "  <th>Date:</th>          <td>Tue, 21 Dec 2021</td> <th>  AIC                </th> <td>1062.373</td>\n",
       "</tr>\n",
       "<tr>\n",
       "  <th>Time:</th>              <td>10:56:07</td>     <th>  BIC                </th> <td>1081.527</td>\n",
       "</tr>\n",
       "<tr>\n",
       "  <th>Sample:</th>           <td>01-01-1949</td>    <th>  HQIC               </th> <td>1070.147</td>\n",
       "</tr>\n",
       "<tr>\n",
       "  <th></th>                 <td>- 06-01-1958</td>   <th>                     </th>     <td> </td>   \n",
       "</tr>\n",
       "</table>\n",
       "<table class=\"simpletable\">\n",
       "<tr>\n",
       "          <td></td>             <th>coef</th>     <th>std err</th>      <th>z</th>      <th>P>|z|</th>  <th>[0.025</th>    <th>0.975]</th>  \n",
       "</tr>\n",
       "<tr>\n",
       "  <th>const</th>             <td>  250.2137</td> <td>   81.584</td> <td>    3.067</td> <td> 0.002</td> <td>   90.313</td> <td>  410.115</td>\n",
       "</tr>\n",
       "<tr>\n",
       "  <th>ar.L1.#Passengers</th> <td>    1.2719</td> <td>    0.091</td> <td>   13.960</td> <td> 0.000</td> <td>    1.093</td> <td>    1.450</td>\n",
       "</tr>\n",
       "<tr>\n",
       "  <th>ar.L2.#Passengers</th> <td>   -0.5500</td> <td>    0.148</td> <td>   -3.713</td> <td> 0.000</td> <td>   -0.840</td> <td>   -0.260</td>\n",
       "</tr>\n",
       "<tr>\n",
       "  <th>ar.L3.#Passengers</th> <td>    0.3480</td> <td>    0.154</td> <td>    2.256</td> <td> 0.024</td> <td>    0.046</td> <td>    0.650</td>\n",
       "</tr>\n",
       "<tr>\n",
       "  <th>ar.L4.#Passengers</th> <td>   -0.4181</td> <td>    0.149</td> <td>   -2.800</td> <td> 0.005</td> <td>   -0.711</td> <td>   -0.125</td>\n",
       "</tr>\n",
       "<tr>\n",
       "  <th>ar.L5.#Passengers</th> <td>    0.3295</td> <td>    0.092</td> <td>    3.566</td> <td> 0.000</td> <td>    0.148</td> <td>    0.511</td>\n",
       "</tr>\n",
       "</table>\n",
       "<table class=\"simpletable\">\n",
       "<caption>Roots</caption>\n",
       "<tr>\n",
       "    <td></td>   <th>            Real</th>  <th>         Imaginary</th> <th>         Modulus</th>  <th>        Frequency</th>\n",
       "</tr>\n",
       "<tr>\n",
       "  <th>AR.1</th> <td>           1.0154</td> <td>          -0.0000j</td> <td>           1.0154</td> <td>          -0.0000</td>\n",
       "</tr>\n",
       "<tr>\n",
       "  <th>AR.2</th> <td>           0.8826</td> <td>          -0.9093j</td> <td>           1.2672</td> <td>          -0.1274</td>\n",
       "</tr>\n",
       "<tr>\n",
       "  <th>AR.3</th> <td>           0.8826</td> <td>          +0.9093j</td> <td>           1.2672</td> <td>           0.1274</td>\n",
       "</tr>\n",
       "<tr>\n",
       "  <th>AR.4</th> <td>          -0.7558</td> <td>          -1.1358j</td> <td>           1.3643</td> <td>          -0.3434</td>\n",
       "</tr>\n",
       "<tr>\n",
       "  <th>AR.5</th> <td>          -0.7558</td> <td>          +1.1358j</td> <td>           1.3643</td> <td>           0.3434</td>\n",
       "</tr>\n",
       "</table>"
      ],
      "text/plain": [
       "<class 'statsmodels.iolib.summary.Summary'>\n",
       "\"\"\"\n",
       "                              ARMA Model Results                              \n",
       "==============================================================================\n",
       "Dep. Variable:            #Passengers   No. Observations:                  114\n",
       "Model:                     ARMA(5, 0)   Log Likelihood                -524.187\n",
       "Method:                       css-mle   S.D. of innovations             23.636\n",
       "Date:                Tue, 21 Dec 2021   AIC                           1062.373\n",
       "Time:                        10:56:07   BIC                           1081.527\n",
       "Sample:                    01-01-1949   HQIC                          1070.147\n",
       "                         - 06-01-1958                                         \n",
       "=====================================================================================\n",
       "                        coef    std err          z      P>|z|      [0.025      0.975]\n",
       "-------------------------------------------------------------------------------------\n",
       "const               250.2137     81.584      3.067      0.002      90.313     410.115\n",
       "ar.L1.#Passengers     1.2719      0.091     13.960      0.000       1.093       1.450\n",
       "ar.L2.#Passengers    -0.5500      0.148     -3.713      0.000      -0.840      -0.260\n",
       "ar.L3.#Passengers     0.3480      0.154      2.256      0.024       0.046       0.650\n",
       "ar.L4.#Passengers    -0.4181      0.149     -2.800      0.005      -0.711      -0.125\n",
       "ar.L5.#Passengers     0.3295      0.092      3.566      0.000       0.148       0.511\n",
       "                                    Roots                                    \n",
       "=============================================================================\n",
       "                  Real          Imaginary           Modulus         Frequency\n",
       "-----------------------------------------------------------------------------\n",
       "AR.1            1.0154           -0.0000j            1.0154           -0.0000\n",
       "AR.2            0.8826           -0.9093j            1.2672           -0.1274\n",
       "AR.3            0.8826           +0.9093j            1.2672            0.1274\n",
       "AR.4           -0.7558           -1.1358j            1.3643           -0.3434\n",
       "AR.5           -0.7558           +1.1358j            1.3643            0.3434\n",
       "-----------------------------------------------------------------------------\n",
       "\"\"\""
      ]
     },
     "execution_count": 148,
     "metadata": {},
     "output_type": "execute_result"
    }
   ],
   "source": [
    "model.summary()"
   ]
  },
  {
   "cell_type": "code",
   "execution_count": 149,
   "metadata": {},
   "outputs": [
    {
     "data": {
      "text/plain": [
       "1958-07-01    432.838698\n",
       "1958-08-01    416.061900\n",
       "1958-09-01    410.085644\n",
       "1958-10-01    385.796574\n",
       "1958-11-01    376.977676\n",
       "1958-12-01    383.342385\n",
       "1959-01-01    384.805838\n",
       "1959-02-01    388.284236\n",
       "1959-03-01    389.803237\n",
       "1959-04-01    384.764601\n",
       "1959-05-01    380.216251\n",
       "1959-06-01    376.758825\n",
       "1959-07-01    373.620206\n",
       "1959-08-01    372.554037\n",
       "1959-09-01    371.962535\n",
       "1959-10-01    370.651289\n",
       "1959-11-01    369.110952\n",
       "1959-12-01    367.078779\n",
       "1960-01-01    364.780912\n",
       "1960-02-01    362.793215\n",
       "1960-03-01    361.033628\n",
       "1960-04-01    359.431282\n",
       "1960-05-01    357.960463\n",
       "1960-06-01    356.432611\n",
       "1960-07-01    354.821421\n",
       "1960-08-01    353.190790\n",
       "1960-09-01    351.558228\n",
       "1960-10-01    349.972084\n",
       "1960-11-01    348.455326\n",
       "1960-12-01    346.981292\n",
       "1961-01-01    345.533993\n",
       "Freq: MS, dtype: float64"
      ]
     },
     "execution_count": 149,
     "metadata": {},
     "output_type": "execute_result"
    }
   ],
   "source": [
    "predictions = model.predict(start= len(train_data), end = len(train_data)+len(test_data), dynamic = True)\n",
    "predictions"
   ]
  },
  {
   "cell_type": "code",
   "execution_count": 150,
   "metadata": {},
   "outputs": [
    {
     "data": {
      "text/plain": [
       "<matplotlib.axes._subplots.AxesSubplot at 0x16abb7cb1c0>"
      ]
     },
     "execution_count": 150,
     "metadata": {},
     "output_type": "execute_result"
    },
    {
     "data": {
      "image/png": "[encoded data removed]",
      "text/plain": [
       "<Figure size 432x288 with 1 Axes>"
      ]
     },
     "metadata": {
      "needs_background": "light"
     },
     "output_type": "display_data"
    }
   ],
   "source": [
    "data2['Predictions'] = predictions\n",
    "data2.plot()"
   ]
  }
 ],
 "metadata": {
  "kernelspec": {
   "display_name": "Python 3",
   "language": "python",
   "name": "python3"
  },
  "language_info": {
   "codemirror_mode": {
    "name": "ipython",
    "version": 3
   },
   "file_extension": ".py",
   "mimetype": "text/x-python",
   "name": "python",
   "nbconvert_exporter": "python",
   "pygments_lexer": "ipython3",
   "version": "3.8.3"
  }
 },
 "nbformat": 4,
 "nbformat_minor": 4
}
