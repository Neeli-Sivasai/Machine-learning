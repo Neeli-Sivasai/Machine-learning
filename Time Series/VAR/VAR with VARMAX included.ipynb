{
 "cells": [
  {
   "cell_type": "code",
   "execution_count": 30,
   "metadata": {},
   "outputs": [],
   "source": [
    "import pandas as pd\n",
    "import matplotlib.pyplot as plt\n",
    "import numpy as np\n",
    "\n",
    "from statsmodels.tsa.stattools import grangercausalitytests, adfuller\n",
    "from statsmodels.graphics.tsaplots import plot_acf, plot_pacf\n",
    "from statsmodels.tsa.statespace.varmax import VARMAX\n",
    "from statsmodels.tsa.api import VAR\n",
    "\n",
    "import warnings \n",
    "warnings.filterwarnings(\"ignore\")\n",
    "\n",
    "#here i removed grangercausality test since i already know about them"
   ]
  },
  {
   "cell_type": "code",
   "execution_count": 31,
   "metadata": {},
   "outputs": [],
   "source": [
    "url = 'https://raw.githubusercontent.com/selva86/datasets/master/Raotbl6.csv'\n",
    "data1 = pd.read_csv(url, parse_dates = ['date'], index_col = 'date')"
   ]
  },
  {
   "cell_type": "code",
   "execution_count": 32,
   "metadata": {},
   "outputs": [
    {
     "data": {
      "text/plain": [
       "Index(['rgnp', 'pgnp', 'ulc', 'gdfco', 'gdf', 'gdfim', 'gdfcf', 'gdfce'], dtype='object')"
      ]
     },
     "execution_count": 32,
     "metadata": {},
     "output_type": "execute_result"
    }
   ],
   "source": [
    "data_columns = data1.columns\n",
    "data_columns"
   ]
  },
  {
   "cell_type": "code",
   "execution_count": 33,
   "metadata": {},
   "outputs": [
    {
     "data": {
      "image/png": "[encoded data removed]",
      "text/plain": [
       "<Figure size 432x288 with 8 Axes>"
      ]
     },
     "metadata": {
      "needs_background": "light"
     },
     "output_type": "display_data"
    }
   ],
   "source": [
    "for i,j in zip(data_columns, range(1,len(data_columns)+1)):\n",
    "    plt.subplot(4,2,j)\n",
    "    plt.plot(data1[i], label = data_columns[j-1])\n",
    "    plt.legend(loc = 'best')\n",
    "    "
   ]
  },
  {
   "cell_type": "code",
   "execution_count": 34,
   "metadata": {},
   "outputs": [
    {
     "data": {
      "text/plain": [
       "Index(['gdfim', 'gdfce'], dtype='object')"
      ]
     },
     "execution_count": 34,
     "metadata": {},
     "output_type": "execute_result"
    }
   ],
   "source": [
    "data = data1[['gdfim', 'gdfce']]\n",
    "data2 = data1[['gdfim', 'gdfce']]\n",
    "data_columns = data.columns\n",
    "data_columns"
   ]
  },
  {
   "cell_type": "code",
   "execution_count": 35,
   "metadata": {},
   "outputs": [
    {
     "name": "stdout",
     "output_type": "stream",
     "text": [
      "ADF statistics gdfim  :  -4.244421412664248\n",
      "P value : gdfim  0.000553653708669569\n",
      "ADF statistics gdfce  :  -2.044709590959794\n",
      "P value : gdfce  0.2673198799246977\n"
     ]
    }
   ],
   "source": [
    "for i in data_columns:\n",
    "    adfuller_result_pgnp = adfuller(data[i].diff()[1:])\n",
    "    print(\"ADF statistics \"+i+\"  : \", adfuller_result_pgnp[0])\n",
    "    print(\"P value : \"+i+\" \", adfuller_result_pgnp[1])"
   ]
  },
  {
   "cell_type": "code",
   "execution_count": 36,
   "metadata": {},
   "outputs": [
    {
     "data": {
      "text/html": [
       "<div><div id=a3c4bbe2-dd73-4a33-895b-fd6f5d1bd4ab style=\"display:none; background-color:#9D6CFF; color:white; width:200px; height:30px; padding-left:5px; border-radius:4px; flex-direction:row; justify-content:space-around; align-items:center;\" onmouseover=\"this.style.backgroundColor='#BA9BF8'\" onmouseout=\"this.style.backgroundColor='#9D6CFF'\" onclick=\"window.commands?.execute('create-mitosheet-from-dataframe-output');\">See Full Dataframe in Mito</div> <script> if (window.commands.hasCommand('create-mitosheet-from-dataframe-output')) document.getElementById('a3c4bbe2-dd73-4a33-895b-fd6f5d1bd4ab').style.display = 'flex' </script> <table border=\"1\" class=\"dataframe\">\n",
       "  <thead>\n",
       "    <tr style=\"text-align: right;\">\n",
       "      <th></th>\n",
       "      <th>gdfim</th>\n",
       "      <th>gdfce</th>\n",
       "    </tr>\n",
       "    <tr>\n",
       "      <th>date</th>\n",
       "      <th></th>\n",
       "      <th></th>\n",
       "    </tr>\n",
       "  </thead>\n",
       "  <tbody>\n",
       "    <tr>\n",
       "      <th>1959-01-01</th>\n",
       "      <td>26.9</td>\n",
       "      <td>23.1</td>\n",
       "    </tr>\n",
       "    <tr>\n",
       "      <th>1959-04-01</th>\n",
       "      <td>27.0</td>\n",
       "      <td>23.4</td>\n",
       "    </tr>\n",
       "    <tr>\n",
       "      <th>1959-07-01</th>\n",
       "      <td>27.1</td>\n",
       "      <td>23.4</td>\n",
       "    </tr>\n",
       "    <tr>\n",
       "      <th>1959-10-01</th>\n",
       "      <td>27.1</td>\n",
       "      <td>23.8</td>\n",
       "    </tr>\n",
       "    <tr>\n",
       "      <th>1960-01-01</th>\n",
       "      <td>27.2</td>\n",
       "      <td>23.8</td>\n",
       "    </tr>\n",
       "    <tr>\n",
       "      <th>...</th>\n",
       "      <td>...</td>\n",
       "      <td>...</td>\n",
       "    </tr>\n",
       "    <tr>\n",
       "      <th>1987-01-01</th>\n",
       "      <td>97.9</td>\n",
       "      <td>89.4</td>\n",
       "    </tr>\n",
       "    <tr>\n",
       "      <th>1987-04-01</th>\n",
       "      <td>100.4</td>\n",
       "      <td>91.3</td>\n",
       "    </tr>\n",
       "    <tr>\n",
       "      <th>1987-07-01</th>\n",
       "      <td>101.9</td>\n",
       "      <td>93.1</td>\n",
       "    </tr>\n",
       "    <tr>\n",
       "      <th>1987-10-01</th>\n",
       "      <td>103.3</td>\n",
       "      <td>92.9</td>\n",
       "    </tr>\n",
       "    <tr>\n",
       "      <th>1988-01-01</th>\n",
       "      <td>104.5</td>\n",
       "      <td>91.5</td>\n",
       "    </tr>\n",
       "  </tbody>\n",
       "</table></div>"
      ],
      "text/plain": [
       "            gdfim  gdfce\n",
       "date                    \n",
       "1959-01-01   26.9   23.1\n",
       "1959-04-01   27.0   23.4\n",
       "1959-07-01   27.1   23.4\n",
       "1959-10-01   27.1   23.8\n",
       "1960-01-01   27.2   23.8\n",
       "...           ...    ...\n",
       "1987-01-01   97.9   89.4\n",
       "1987-04-01  100.4   91.3\n",
       "1987-07-01  101.9   93.1\n",
       "1987-10-01  103.3   92.9\n",
       "1988-01-01  104.5   91.5\n",
       "\n",
       "[117 rows x 2 columns]"
      ]
     },
     "execution_count": 36,
     "metadata": {},
     "output_type": "execute_result"
    }
   ],
   "source": [
    "train_data = data2[:-6]\n",
    "test_data = data2[-6:]\n",
    "train_data.shape, test_data.shape\n",
    "train_data"
   ]
  },
  {
   "cell_type": "code",
   "execution_count": 37,
   "metadata": {},
   "outputs": [
    {
     "data": {
      "text/html": [
       "<table class=\"simpletable\">\n",
       "<caption>VAR Order Selection (* highlights the minimums)</caption>\n",
       "<tr>\n",
       "   <td></td>      <th>AIC</th>         <th>BIC</th>         <th>FPE</th>        <th>HQIC</th>    \n",
       "</tr>\n",
       "<tr>\n",
       "  <th>0</th>  <td>     10.55</td>  <td>     10.61</td>  <td> 3.828e+04</td>  <td>     10.57</td> \n",
       "</tr>\n",
       "<tr>\n",
       "  <th>1</th>  <td>     1.025</td>  <td>     1.184</td>  <td>     2.786</td>  <td>     1.089</td> \n",
       "</tr>\n",
       "<tr>\n",
       "  <th>2</th>  <td>    0.4180</td>  <td>    0.6834*</td> <td>     1.519</td>  <td>    0.5253</td> \n",
       "</tr>\n",
       "<tr>\n",
       "  <th>3</th>  <td>    0.4736</td>  <td>    0.8452</td>  <td>     1.607</td>  <td>    0.6239</td> \n",
       "</tr>\n",
       "<tr>\n",
       "  <th>4</th>  <td>    0.5197</td>  <td>    0.9975</td>  <td>     1.683</td>  <td>    0.7129</td> \n",
       "</tr>\n",
       "<tr>\n",
       "  <th>5</th>  <td>    0.5862</td>  <td>     1.170</td>  <td>     1.801</td>  <td>    0.8223</td> \n",
       "</tr>\n",
       "<tr>\n",
       "  <th>6</th>  <td>    0.5839</td>  <td>     1.274</td>  <td>     1.799</td>  <td>    0.8629</td> \n",
       "</tr>\n",
       "<tr>\n",
       "  <th>7</th>  <td>    0.4668</td>  <td>     1.263</td>  <td>     1.603</td>  <td>    0.7888</td> \n",
       "</tr>\n",
       "<tr>\n",
       "  <th>8</th>  <td>    0.5334</td>  <td>     1.436</td>  <td>     1.717</td>  <td>    0.8983</td> \n",
       "</tr>\n",
       "<tr>\n",
       "  <th>9</th>  <td>    0.4900</td>  <td>     1.499</td>  <td>     1.649</td>  <td>    0.8978</td> \n",
       "</tr>\n",
       "<tr>\n",
       "  <th>10</th> <td>    0.5343</td>  <td>     1.649</td>  <td>     1.730</td>  <td>    0.9851</td> \n",
       "</tr>\n",
       "<tr>\n",
       "  <th>11</th> <td>    0.5316</td>  <td>     1.753</td>  <td>     1.733</td>  <td>     1.025</td> \n",
       "</tr>\n",
       "<tr>\n",
       "  <th>12</th> <td>    0.5304</td>  <td>     1.858</td>  <td>     1.741</td>  <td>     1.067</td> \n",
       "</tr>\n",
       "<tr>\n",
       "  <th>13</th> <td>    0.5411</td>  <td>     1.974</td>  <td>     1.771</td>  <td>     1.121</td> \n",
       "</tr>\n",
       "<tr>\n",
       "  <th>14</th> <td>    0.4289</td>  <td>     1.968</td>  <td>     1.594</td>  <td>     1.051</td> \n",
       "</tr>\n",
       "<tr>\n",
       "  <th>15</th> <td>    0.2160</td>  <td>     1.862</td>  <td>     1.300</td>  <td>    0.8814</td> \n",
       "</tr>\n",
       "<tr>\n",
       "  <th>16</th> <td>  -0.01605</td>  <td>     1.736</td>  <td>     1.041</td>  <td>    0.6923</td> \n",
       "</tr>\n",
       "<tr>\n",
       "  <th>17</th> <td>   -0.2350</td>  <td>     1.623</td>  <td>    0.8463*</td> <td>    0.5163*</td>\n",
       "</tr>\n",
       "<tr>\n",
       "  <th>18</th> <td>   -0.1896</td>  <td>     1.775</td>  <td>    0.8973</td>  <td>    0.6047</td> \n",
       "</tr>\n",
       "<tr>\n",
       "  <th>19</th> <td>   -0.2138</td>  <td>     1.857</td>  <td>    0.8891</td>  <td>    0.6234</td> \n",
       "</tr>\n",
       "<tr>\n",
       "  <th>20</th> <td>   -0.2701*</td> <td>     1.906</td>  <td>    0.8547</td>  <td>    0.6100</td> \n",
       "</tr>\n",
       "</table>"
      ],
      "text/plain": [
       "<class 'statsmodels.iolib.table.SimpleTable'>"
      ]
     },
     "execution_count": 37,
     "metadata": {},
     "output_type": "execute_result"
    }
   ],
   "source": [
    "model = VAR(train_data)\n",
    "\n",
    "sorted_order = model.select_order(maxlags = 20)\n",
    "sorted_order.summary()"
   ]
  },
  {
   "cell_type": "code",
   "execution_count": 38,
   "metadata": {},
   "outputs": [
    {
     "name": "stdout",
     "output_type": "stream",
     "text": [
      "                           Statespace Model Results                           \n",
      "==============================================================================\n",
      "Dep. Variable:     ['gdfim', 'gdfce']   No. Observations:                  117\n",
      "Model:                         VAR(4)   Log Likelihood                -327.961\n",
      "                          + intercept   AIC                            697.923\n",
      "Date:                Mon, 20 Dec 2021   BIC                            755.929\n",
      "Time:                        17:57:21   HQIC                           721.473\n",
      "Sample:                    01-01-1959                                         \n",
      "                         - 01-01-1988                                         \n",
      "Covariance Type:                  opg                                         \n",
      "===================================================================================\n",
      "Ljung-Box (Q):                55.47, 63.82   Jarque-Bera (JB):         30.20, 78.23\n",
      "Prob(Q):                        0.05, 0.01   Prob(JB):                   0.00, 0.00\n",
      "Heteroskedasticity (H):       36.29, 54.07   Skew:                       0.34, 0.42\n",
      "Prob(H) (two-sided):            0.00, 0.00   Kurtosis:                   5.40, 6.92\n",
      "                          Results for equation gdfim                          \n",
      "==============================================================================\n",
      "                 coef    std err          z      P>|z|      [0.025      0.975]\n",
      "------------------------------------------------------------------------------\n",
      "intercept     -0.2473      0.541     -0.457      0.648      -1.308       0.813\n",
      "L1.gdfim       1.6624      0.115     14.441      0.000       1.437       1.888\n",
      "L1.gdfce      -0.0138      0.069     -0.200      0.842      -0.149       0.121\n",
      "L2.gdfim      -0.6095      0.262     -2.328      0.020      -1.123      -0.096\n",
      "L2.gdfce      -0.1089      0.107     -1.014      0.311      -0.319       0.102\n",
      "L3.gdfim       0.0108      0.238      0.045      0.964      -0.457       0.478\n",
      "L3.gdfce       0.0546      0.106      0.514      0.607      -0.154       0.263\n",
      "L4.gdfim      -0.0045      0.110     -0.041      0.967      -0.219       0.210\n",
      "L4.gdfce       0.0114      0.067      0.171      0.865      -0.120       0.143\n",
      "                          Results for equation gdfce                          \n",
      "==============================================================================\n",
      "                 coef    std err          z      P>|z|      [0.025      0.975]\n",
      "------------------------------------------------------------------------------\n",
      "intercept     -0.5860      1.109     -0.529      0.597      -2.759       1.587\n",
      "L1.gdfim       0.0046      0.174      0.026      0.979      -0.337       0.346\n",
      "L1.gdfce       1.4388      0.138     10.389      0.000       1.167       1.710\n",
      "L2.gdfim       0.3604      0.335      1.075      0.283      -0.297       1.018\n",
      "L2.gdfce      -0.6872      0.232     -2.966      0.003      -1.141      -0.233\n",
      "L3.gdfim      -0.5787      0.392     -1.475      0.140      -1.348       0.190\n",
      "L3.gdfce       0.2770      0.233      1.187      0.235      -0.181       0.735\n",
      "L4.gdfim       0.3288      0.236      1.394      0.163      -0.133       0.791\n",
      "L4.gdfce      -0.1372      0.120     -1.141      0.254      -0.373       0.098\n",
      "                                Error covariance matrix                                 \n",
      "========================================================================================\n",
      "                           coef    std err          z      P>|z|      [0.025      0.975]\n",
      "----------------------------------------------------------------------------------------\n",
      "sqrt.var.gdfim           0.8005      0.056     14.299      0.000       0.691       0.910\n",
      "sqrt.cov.gdfim.gdfce     0.7734      0.121      6.369      0.000       0.535       1.011\n",
      "sqrt.var.gdfce           1.1376      0.085     13.321      0.000       0.970       1.305\n",
      "========================================================================================\n",
      "\n",
      "Warnings:\n",
      "[1] Covariance matrix calculated using the outer product of gradients (complex-step).\n"
     ]
    }
   ],
   "source": [
    "var_model = VARMAX(train_data, order=(4,0), enforce_stationary = True)\n",
    "fitted_model = var_model.fit(disp=False)\n",
    "print(fitted_model.summary())"
   ]
  },
  {
   "cell_type": "code",
   "execution_count": 39,
   "metadata": {},
   "outputs": [],
   "source": [
    "n_forecast = 12\n",
    "predict = fitted_model.get_prediction(start = len(train_data), end=len(train_data) + n_forecast)\n",
    "predictions = predict.predicted_mean"
   ]
  },
  {
   "cell_type": "code",
   "execution_count": 51,
   "metadata": {},
   "outputs": [
    {
     "data": {
      "text/html": [
       "<div><div id=2835a36c-e46b-4a66-af56-43ac482275e7 style=\"display:none; background-color:#9D6CFF; color:white; width:200px; height:30px; padding-left:5px; border-radius:4px; flex-direction:row; justify-content:space-around; align-items:center;\" onmouseover=\"this.style.backgroundColor='#BA9BF8'\" onmouseout=\"this.style.backgroundColor='#9D6CFF'\" onclick=\"window.commands?.execute('create-mitosheet-from-dataframe-output');\">See Full Dataframe in Mito</div> <script> if (window.commands.hasCommand('create-mitosheet-from-dataframe-output')) document.getElementById('2835a36c-e46b-4a66-af56-43ac482275e7').style.display = 'flex' </script> <table border=\"1\" class=\"dataframe\">\n",
       "  <thead>\n",
       "    <tr style=\"text-align: right;\">\n",
       "      <th></th>\n",
       "      <th>gdfim_predicted</th>\n",
       "      <th>gdfce_predicted</th>\n",
       "    </tr>\n",
       "  </thead>\n",
       "  <tbody>\n",
       "    <tr>\n",
       "      <th>1988-04-01</th>\n",
       "      <td>105.917659</td>\n",
       "      <td>92.233993</td>\n",
       "    </tr>\n",
       "    <tr>\n",
       "      <th>1988-07-01</th>\n",
       "      <td>107.703391</td>\n",
       "      <td>94.071820</td>\n",
       "    </tr>\n",
       "    <tr>\n",
       "      <th>1988-10-01</th>\n",
       "      <td>109.630608</td>\n",
       "      <td>96.136189</td>\n",
       "    </tr>\n",
       "    <tr>\n",
       "      <th>1989-01-01</th>\n",
       "      <td>111.551490</td>\n",
       "      <td>98.465342</td>\n",
       "    </tr>\n",
       "    <tr>\n",
       "      <th>1989-04-01</th>\n",
       "      <td>113.435007</td>\n",
       "      <td>100.942292</td>\n",
       "    </tr>\n",
       "    <tr>\n",
       "      <th>...</th>\n",
       "      <td>...</td>\n",
       "      <td>...</td>\n",
       "    </tr>\n",
       "    <tr>\n",
       "      <th>1990-04-01</th>\n",
       "      <td>120.204939</td>\n",
       "      <td>110.396718</td>\n",
       "    </tr>\n",
       "    <tr>\n",
       "      <th>1990-07-01</th>\n",
       "      <td>121.684736</td>\n",
       "      <td>112.558925</td>\n",
       "    </tr>\n",
       "    <tr>\n",
       "      <th>1990-10-01</th>\n",
       "      <td>123.080860</td>\n",
       "      <td>114.624563</td>\n",
       "    </tr>\n",
       "    <tr>\n",
       "      <th>1991-01-01</th>\n",
       "      <td>124.395510</td>\n",
       "      <td>116.591256</td>\n",
       "    </tr>\n",
       "    <tr>\n",
       "      <th>1991-04-01</th>\n",
       "      <td>125.630948</td>\n",
       "      <td>118.458075</td>\n",
       "    </tr>\n",
       "  </tbody>\n",
       "</table></div>"
      ],
      "text/plain": [
       "            gdfim_predicted  gdfce_predicted\n",
       "1988-04-01       105.917659        92.233993\n",
       "1988-07-01       107.703391        94.071820\n",
       "1988-10-01       109.630608        96.136189\n",
       "1989-01-01       111.551490        98.465342\n",
       "1989-04-01       113.435007       100.942292\n",
       "1989-07-01       115.254281       103.397914\n",
       "1989-10-01       116.990082       105.799984\n",
       "1990-01-01       118.640064       108.140276\n",
       "1990-04-01       120.204939       110.396718\n",
       "1990-07-01       121.684736       112.558925\n",
       "1990-10-01       123.080860       114.624563\n",
       "1991-01-01       124.395510       116.591256\n",
       "1991-04-01       125.630948       118.458075"
      ]
     },
     "execution_count": 51,
     "metadata": {},
     "output_type": "execute_result"
    }
   ],
   "source": [
    "predictions.columns = ['gdfim_predicted','gdfce_predicted']\n",
    "predictions"
   ]
  },
  {
   "cell_type": "code",
   "execution_count": 52,
   "metadata": {
    "scrolled": true
   },
   "outputs": [
    {
     "data": {
      "text/plain": [
       "<matplotlib.axes._subplots.AxesSubplot at 0x1e974ce0d90>"
      ]
     },
     "execution_count": 52,
     "metadata": {},
     "output_type": "execute_result"
    },
    {
     "data": {
      "image/png": "[encoded data removed]",
      "text/plain": [
       "<Figure size 432x288 with 1 Axes>"
      ]
     },
     "metadata": {
      "needs_background": "light"
     },
     "output_type": "display_data"
    }
   ],
   "source": [
    "data2['gdfim_predicted'] = predictions['gdfim_predicted']\n",
    "data2['gdfce_predicted'] = predictions['gdfce_predicted']\n",
    "data2.plot()"
   ]
  },
  {
   "cell_type": "code",
   "execution_count": 53,
   "metadata": {},
   "outputs": [
    {
     "data": {
      "text/plain": [
       "1988-04-01    105.917659\n",
       "1988-07-01    107.703391\n",
       "1988-10-01    109.630608\n",
       "1989-01-01    111.551490\n",
       "1989-04-01    113.435007\n",
       "1989-07-01    115.254281\n",
       "1989-10-01    116.990082\n",
       "1990-01-01    118.640064\n",
       "1990-04-01    120.204939\n",
       "1990-07-01    121.684736\n",
       "1990-10-01    123.080860\n",
       "1991-01-01    124.395510\n",
       "1991-04-01    125.630948\n",
       "Freq: QS-OCT, Name: gdfim_predicted, dtype: float64"
      ]
     },
     "execution_count": 53,
     "metadata": {},
     "output_type": "execute_result"
    }
   ],
   "source": [
    "predictions['gdfim_predicted']"
   ]
  },
  {
   "cell_type": "code",
   "execution_count": 54,
   "metadata": {},
   "outputs": [
    {
     "name": "stdout",
     "output_type": "stream",
     "text": [
      "MSE of gdfim :  7.855869270700128\n",
      "MSE of gdfce :  9.861593604067565\n"
     ]
    }
   ],
   "source": [
    "from sklearn.metrics import mean_squared_error as MSE\n",
    "print(\"MSE of gdfim : \",MSE(predictions['gdfim_predicted'][0:6],data2['gdfim'][-6:]))\n",
    "print(\"MSE of gdfce : \",MSE(predictions['gdfce_predicted'][0:6],data2['gdfce'][-6:]))\n"
   ]
  }
 ],
 "metadata": {
  "kernelspec": {
   "display_name": "Python 3",
   "language": "python",
   "name": "python3"
  },
  "language_info": {
   "codemirror_mode": {
    "name": "ipython",
    "version": 3
   },
   "file_extension": ".py",
   "mimetype": "text/x-python",
   "name": "python",
   "nbconvert_exporter": "python",
   "pygments_lexer": "ipython3",
   "version": "3.8.3"
  }
 },
 "nbformat": 4,
 "nbformat_minor": 4
}
